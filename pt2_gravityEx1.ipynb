{
 "cells": [
  {
   "cell_type": "markdown",
   "metadata": {
    "deletable": true,
    "editable": true
   },
   "source": [
    "# Example of spectral integrals: gravity upward continuation \n",
    "\n",
    "In the first notebook, we showed how to generate a spectral form of integrals over a single axis. An important application of this proceedure the in spectral domain calculation of gravity anomalies, also known as upward continuation. Given a known subsurface density structure $\\rho(x,y)$, the surface (upward continued) gravity signal can be written as:\n",
    "\n",
    "$ \\Delta g (x) = 2\\pi G \\left[ \\sum_k e^{ikx} \\int_{z_0}^{z_t} \\hat \\Gamma(k,z)e^{-kz} dz  \\right]$\n",
    "\n",
    "Where:\n",
    "\n",
    "* $\\hat \\Gamma$ is the spectral representation of the density in the horizontal axis\n",
    "\n",
    "* $e^{-kz}$ is sometimes called the the upward continuation kernel\n",
    "\n",
    "* for 2D domains, the spectral representation given above assumes the density structure is constant in the 3rd dimension (hence we compare with solutions to a a cylinder not a sphere!)\n",
    "\n",
    "\n",
    "We will compare this upward continuation proceedure with the analytic solution for gravity above a cylinder. The $g_z$ component of the gravity is:\n",
    "\n",
    "$$\\Delta g_z = \\frac{2 \\pi G R^2 \\Delta \\rho z}{(x^2 + z^2)}$$"
   ]
  },
  {
   "cell_type": "markdown",
   "metadata": {},
   "source": [
    "## A function for spectral integrals.\n",
    "\n",
    "First let's package up some of the code we used in the first notebook, extending it to also inlcude a \"kernel\" function.\n",
    "\n",
    "\n"
   ]
  },
  {
   "cell_type": "code",
   "execution_count": 1,
   "metadata": {
    "collapsed": true
   },
   "outputs": [],
   "source": [
    "import underworld as uw\n",
    "from underworld import function as fn\n",
    "import glucifer\n",
    "from scipy.integrate import simps, trapz\n",
    "import numpy as np"
   ]
  },
  {
   "cell_type": "code",
   "execution_count": 2,
   "metadata": {
    "collapsed": false
   },
   "outputs": [],
   "source": [
    "def spectral_integral(mesh, fnToInt, N, axisIndex=0, kernelFn=1., average = True, \n",
    "                      integrationType=\"volume\",surfaceIndexSet=None, returnCoeffs=False ):\n",
    "    \"\"\"\n",
    "    Returns a vector-valued function that represents the spectral integral over one of the UW mesh axes. \n",
    "    The axis over which the intragration is performed is, by definition, \n",
    "    parallel to the axisIndex\n",
    "    (the sin cosine modes are created orthogonal the axisIndex).\n",
    "    \n",
    "    A scalar or vector valued kernel function can be provided, \n",
    "    for instance, the upward continuation kernel used in potential field reconstuction\n",
    "    \n",
    "    N is the number of wavenumber used, inlcudingh the zeroth mode (average value)\n",
    "    \n",
    "    \"\"\"\n",
    "    \n",
    "    if integrationType:\n",
    "        if not isinstance( integrationType, str ):\n",
    "            raise TypeError( \"'integrationType' provided must be a string.\")\n",
    "        integrationType = integrationType.lower()\n",
    "        if integrationType not in [\"volume\", \"surface\"]:\n",
    "            raise ValueError( \"'integrationType' string provided must be either 'volume' or 'surface'.\")\n",
    "    if integrationType == \"surface\":\n",
    "        if not surfaceIndexSet:\n",
    "                    raise RuntimeError(\"For surface integration, you must provide a 'surfaceIndexSet'.\")\n",
    "    \n",
    "    if axisIndex == 0:\n",
    "        modeaxes = 1\n",
    "    elif axisIndex == 1:\n",
    "        modeaxes = 0\n",
    "    else:\n",
    "        raise ValueError( \"axisIndex must either of 0 or 1\")\n",
    "    \n",
    "    #determine average, and edge cases \n",
    "    if average:\n",
    "        average_ = uw.utils.Integral(fnToInt*kernelFn,mesh)\n",
    "    else:\n",
    "        average_ = uw.utils.Integral(fn.misc.constant(0.), mesh)\n",
    "    \n",
    "    if N <=2:\n",
    "        raise ValueError( \"N must be at least 2, otherwise you should use an integral (N=1)\")\n",
    "\n",
    "        \n",
    "    \n",
    "    # create set of wavenumbers / modes\n",
    "    res = mesh.elementRes[modeaxes]\n",
    "    width = abs(mesh.maxCoord[modeaxes] - mesh.minCoord[modeaxes])\n",
    "    ax_ = fn.coord()[modeaxes]\n",
    "    modes = []\n",
    "    #ks = []\n",
    "    for i in range(1,N):\n",
    "        factor = float(i)*2.*np.pi/width\n",
    "        modes.append(factor*ax_)\n",
    "        #ks.append(factor)\n",
    "        \n",
    "    sinfns = fn.math.sin(modes)\n",
    "    cosfns = fn.math.cos(modes)\n",
    "    \n",
    "    \n",
    "    if average:\n",
    "        average_ = uw.utils.Integral(fnToInt*kernelFn,mesh)\n",
    "    else:\n",
    "        average_ = fn.misc.constant(0.)\n",
    "    \n",
    "    if integrationType==\"volume\":\n",
    "        sin_coeffs = uw.utils.Integral(fnToInt*kernelFn*sinfns,mesh)\n",
    "        cos_coeffs = uw.utils.Integral(fnToInt*kernelFn*cosfns,mesh)\n",
    "\n",
    "    else:\n",
    "        \n",
    "        sin_coeffs = uw.utils.Integral(fnToInt*kernelFn*sinfns, mesh, \n",
    "                                        integrationType='surface', \n",
    "                                       surfaceIndexSet=surfaceIndexSet)\n",
    "        cos_coeffs = uw.utils.Integral(fnToInt*kernelFn*sinfns, mesh, \n",
    "                                        integrationType='surface', \n",
    "                                       surfaceIndexSet=surfaceIndexSet) \n",
    "\n",
    "    synthFn = (2./width)*fn.math.dot(sin_coeffs.evaluate(),sinfns) + \\\n",
    "              (2./width)*fn.math.dot(cos_coeffs.evaluate(),cosfns) + \\\n",
    "                         average_.evaluate()[0]\n",
    "    \n",
    "    if not returnCoeffs:\n",
    "        return synthFn\n",
    "    else:\n",
    "        return synthFn, [sin_coeffs, cos_coeffs]\n",
    "    \n",
    "    \n",
    "def integral_wavenumbers(mesh, N, axisIndex=0):\n",
    "    \n",
    "    if axisIndex == 0:\n",
    "        modeaxes = 1\n",
    "    elif axisIndex == 1:\n",
    "        modeaxes = 0\n",
    "    else:\n",
    "        raise ValueError( \"axisIndex must either of 0 or 1\")\n",
    "        \n",
    "    if N <=2:\n",
    "        return np.array([0])\n",
    "    \n",
    "    #res = mesh.elementRes[modeaxes]\n",
    "    width = mesh.maxCoord[modeaxes] - mesh.minCoord[modeaxes]\n",
    "\n",
    "    ks = []\n",
    "    for i in range(1,N):\n",
    "        factor = float(i)*2.*np.pi/width\n",
    "        ks.append(factor)\n",
    "    return(np.array(ks))"
   ]
  },
  {
   "cell_type": "markdown",
   "metadata": {
    "deletable": true,
    "editable": true
   },
   "source": [
    "## Set up problem in Underworld2"
   ]
  },
  {
   "cell_type": "code",
   "execution_count": 3,
   "metadata": {
    "collapsed": false,
    "deletable": true,
    "editable": true
   },
   "outputs": [],
   "source": [
    "lengthScale = 2900e3\n",
    "# first create a mesh and variable\n",
    "mesh = uw.mesh.FeMesh_Cartesian(elementType = 'Q1/dQ0', \n",
    "                                elementRes=(6*64,64),\n",
    "                                minCoord    = (-1., 1. - 1000e3/lengthScale), \n",
    "                                maxCoord    = (1., 1.) )\n",
    "\n",
    "\n",
    "densVar = uw.mesh.MeshVariable(mesh,1)"
   ]
  },
  {
   "cell_type": "code",
   "execution_count": 33,
   "metadata": {
    "collapsed": false,
    "deletable": true,
    "editable": true
   },
   "outputs": [],
   "source": [
    "#set up a circle function (cylinders)\n",
    "radius = 150e3/lengthScale\n",
    "depth =  400e3/lengthScale\n",
    "offset= (0., 1 - depth)\n",
    "coord1 = fn.input() - offset \n",
    "\n",
    "circle1 = ( fn.math.dot(coord1,coord1) < radius**2 )\n",
    "\n"
   ]
  },
  {
   "cell_type": "code",
   "execution_count": 34,
   "metadata": {
    "collapsed": false,
    "deletable": true,
    "editable": true
   },
   "outputs": [],
   "source": [
    "densFn = fn.branching.conditional(  ( (circle1,  1.),\n",
    "                                              (        True, 0.)   ) )\n",
    "\n",
    "densVar.data[:] = densFn.evaluate(mesh)"
   ]
  },
  {
   "cell_type": "code",
   "execution_count": 35,
   "metadata": {
    "collapsed": false,
    "deletable": true,
    "editable": true
   },
   "outputs": [
    {
     "data": {
      "text/html": [
       "<img src='data:image/png;base64,iVBORw0KGgoAAAANSUhEUgAAAoAAAAHgCAIAAAC6s0uzAAAKDUlEQVR4nO3dz4tddxnA4XMnM50mNZmMYMGdIEI3xQREG0S0KihUUSqiK1eKirSQNi1IQRRLNy0piH+AC7cioRu1VrEYJSubViXiwpUroRN/ZNKZSXJdVCQ0CGHuyf2cwedZDWfOfb/v5vJhDpc7s/l8PgAAy7VSLwAA/48EGAACAgwAAQEGgIAAA0BAgAEgIMAAEBBgAAgIMAAEBBgAAgIMAAEBBoCAAANAQIABICDAABAQYAAICDAABAQYAAICDAABAQaAgAADQECAASAgwAAQEGAACAgwAAQEGAACAgwAAQEGgIAAA0BAgAEgIMAAEBBgAAgIMAAEBBgAAgIMAAEBBoCAAANAQIABICDAABAQYAAICDAABAQYAAICDAABAQaAgAADQECAASAgwAAQEGAACAgwAAQEGAACAgwAAQEGgIAAA0BAgAEgIMAAEBBgAAgIMAAEBBgAAgIMAAEBBoCAAANAQIABICDAABAQYAAICDAABAQYAAICDAABAQaAgAADQECAASAgwAAQEGAACAgwAAQEGAACAgwAAQEGgIAAA0BAgAEgIMAAEBBgAAgIMAAEBBgAAgIMAAEBBoCAAANAQIABICDAABAQYAAICDAABAQYAAICDAABAQaAgAADQECAASAgwAAQEGAACAgwAAQEGAACAgwAAQEGgIAAA0BAgAEgIMAAEBBgAAgIMAAEBBgAAgIMAAEBBoCAAANAQIABICDAABAQYAAICDAABAQYAAICDAABAQaAgAADQECAASAgwAAQEGAACAgwAAQEGAACAgwAAQEGgIAAA0BAgAEgIMAAEBBgAAgIMAAEBBgAAgIMAAEBBoCAAANAQIABICDAABAQYAAICDAABAQYAAICDAABAQaAgAADQECAASAgwAAQEGAACAgwAAQEGAACAgwAAQEGgIAAA0BAgAEgIMAAEBBgAAgIMAAEBBgAAgIMAAEBBoCAAANAQIABICDAABAQYAAICDAABAQYAAICDAABAQaAgAADQECAASAgwAAQEGAACAgwAAQEGAACAgwAAQEGgIAAA0BAgAEgIMAAEBBgAAgIMAAEBBgAAgIMAAEBBoCAAANAQIABICDAABAQYAAICDAABAQYAAICDAABAQaAgAADQGB1OcfMZrPlHAQAC5rP50s4ZUkBHobhvudfWdpZALA/l06fWM5BHkEDQECAASAgwAAQEGAACAgwAAQEGAACAgwAAQEGgIAAA0BAgAEgIMAAEBBgAAgIMAAEBBgAAgIMAAEBBoCAAANAQIABICDAABAQYAAICDAABAQYAAICDAfVl6688I7rr9dbAPu0Wi8A3Ja33/j7W66c3L30sTcunN584uaLr69sLHEpYP8EGA6GJ//xg3tv+Xv3/Tu/f27r7M1Xzh3+yLkjDy5xL2CfBBgm7XPbP//vz6d2Lt56w1suntq5uDpcH4bhR0c+fqd3AxYhwDBR6/PdYRhO7l66ucG34+nL3x+G4dTOq2c2H7sjmwFjEGCYqPft/vGLV36y75c/dPXlvdnqN48/OuJKwIgEGKbok1fPD8PwwM6rb5tv73vIZ7d/sTcc+tbxb4y3FzAaAYYpOrVz8eHtlxaf8/ntF/dmq9/d+Orio4BxCTBM1JufpRphznycOcC4BBim5QM7r9017I048EM7v7t/78+vrb1nxJnA4nwTFkzOs1vPf+KN34w17Z3X//bc1tn79v4y1kBgFAIMU7Rx41/jTht3ILA4AQaAgAADQECAASAgwAAQEGAACAgwAAQEGAACAgwAAQEGgIAAw7RcXjm6tXJ0xIFbK8duDLMRBwKjEGCYlj+tvevM5uN/PXTvWANfvPuBJzYfG2saMBYBhsn5w9q7z6+fGHHg+fUTF9bvH3EgsDj/jhCmaG+2tviQ3TGGAHeIAMMUPb3xldX5tS9s/3SRIbvD2lObj4y1EjAuAYaJ+vbxr68N1x7efml/L//Z3aeGYbgyOzzu02xgLAIM0/XU8UfW5tc+ffVX+3jtP1fu+c7G10ZfCRiLAMOkPbl5+rfr7x2G4ZnL37ud+88defDCXf/5vNXezBscpsv7E6bux0c+OgzDtdmhz2z/chiGD+68cus9Nz9nfvN+YOIEGA6GFw5/+NfrJ4dheHbr7K0N3lo59szGl4u9gH0SYDgwtlaODcNwZvPxT119+X/9FjgoBBgOmMsrR394z0P1FsCifBMWAAQEGAACAgwAAQEGgIAAA0BAgAEgIMAAEBBgAAgIMAAEBBgAAgIMAAEBBoCAAANAQIABICDAABAQYAAICDAABAQYAAICDAABAQaAgAADQECAASAgwAAQEGAACAgwAAQEGAACAgwAAQEGgIAAA0BAgAEgIMAAEBBgAAgIMAAEBBgAAgIMAAEBBoCAAANAQIABICDAABAQYAAICDAABAQYAAKz+Xy+jGNmsyWcAgCLW1IZl3MMAHAzj6ABICDAABAQYAAICDAABAQYAAICDAABAQaAgAADQECAASAgwAAQEGAACAgwAAQEGAACAgwAAQEGgIAAA0BAgAEgIMAAEBBgAAgIMAAEBBgAAgIMAAEBBoCAAANAQIABICDAABAQYAAICDAABAQYAAICDAABAQaAgAADQECAASAgwAAQEGAACAgwAAQEGAACAgwAAQEGgIAAA0BAgAEgIMAAEBBgAAgIMAAEBBgAAgIMAAEBBoCAAANAQIABICDAABAQYAAICDAABAQYAAICDAABAQaAgAADQECAASAgwAAQEGAACAgwAAQEGAACAgwAAQEGgIAAA0BAgAEgIMAAEBBgAAgIMAAEBBgAAgIMAAEBBoCAAANAQIABICDAABAQYAAICDAABAQYAAICDAABAQaAgAADQECAASAgwAAQEGAACAgwAAQEGAACAgwAAQEGgIAAA0BAgAEgIMAAEBBgAAgIMAAEBBgAAgIMAAEBBoCAAANAQIABICDAABAQYAAICDAABAQYAAICDAABAQaAgAADQECAASAgwAAQEGAACAgwAAQEGAACAgwAAQEGgIAAA0BAgAEgIMAAEBBgAAgIMAAEBBgAAgIMAAEBBoCAAANAQIABICDAABAQYAAICDAABAQYAAICDAABAQaAgAADQECAASAgwAAQEGAACAgwAAQEGAACAgwAAQEGgIAAA0BAgAEgIMAAEBBgAAgIMAAEBBgAAgIMAAEBBoCAAANAQIABICDAABAQYAAICDAABAQYAAICDAABAQaAgAADQECAASAgwAAQEGAACAgwAAQEGAACAgwAAQEGgIAAA0BAgAEgIMAAEBBgAAgIMAAEBBgAAgIMAAEBBoCAAANAQIABICDAABAQYAAICDAABAQYAAICDAABAQaAgAADQECAASAgwAAQEGAACAgwAAQEGAACAgwAAQEGgIAAA0BAgAEgIMAAEBBgAAgIMAAEBBgAAv8Gyt+3yDKsFOAAAAAASUVORK5CYII='>"
      ],
      "text/plain": [
       "<IPython.core.display.HTML object>"
      ]
     },
     "metadata": {},
     "output_type": "display_data"
    }
   ],
   "source": [
    "fig = glucifer.Figure(quality=0)\n",
    "fig.append( glucifer.objects.Surface(mesh, densVar, onMesh=True, colourBar=False) )\n",
    "fig.show()"
   ]
  },
  {
   "cell_type": "markdown",
   "metadata": {
    "deletable": true,
    "editable": true
   },
   "source": [
    "## Analytic solution, dimensional values\n",
    "\n",
    "\n"
   ]
  },
  {
   "cell_type": "code",
   "execution_count": 36,
   "metadata": {
    "collapsed": false,
    "deletable": true,
    "editable": true
   },
   "outputs": [],
   "source": [
    "G = 6.67e-11         #grav. constant\n",
    "rho = 3300.0         #density\n",
    "deltaRho = 50.       #kg/m**3"
   ]
  },
  {
   "cell_type": "code",
   "execution_count": 37,
   "metadata": {
    "collapsed": false,
    "deletable": true,
    "editable": true
   },
   "outputs": [],
   "source": [
    "meshXs = mesh.data[mesh.specialSets['MaxJ_VertexSet'].data][:,0]"
   ]
  },
  {
   "cell_type": "code",
   "execution_count": 38,
   "metadata": {
    "collapsed": false,
    "deletable": true,
    "editable": true
   },
   "outputs": [],
   "source": [
    "dimXs = (meshXs - offset[0])*lengthScale\n",
    "\n",
    "dimDepth = depth*lengthScale\n",
    "dimrad = radius*lengthScale\n",
    "\n",
    "grav = ((2*np.pi*G*(dimrad)**2*deltaRho))*dimDepth/((dimXs**2 + dimDepth**2))\n"
   ]
  },
  {
   "cell_type": "code",
   "execution_count": 39,
   "metadata": {
    "collapsed": false,
    "deletable": true,
    "editable": true
   },
   "outputs": [
    {
     "name": "stdout",
     "output_type": "stream",
     "text": [
      "Populating the interactive namespace from numpy and matplotlib\n"
     ]
    },
    {
     "name": "stderr",
     "output_type": "stream",
     "text": [
      "WARNING: pylab import has clobbered these variables: ['spacing']\n",
      "`%matplotlib` prevents importing * from pylab and numpy\n"
     ]
    },
    {
     "data": {
      "text/plain": [
       "<matplotlib.text.Text at 0x7fb5424e68d0>"
      ]
     },
     "execution_count": 39,
     "metadata": {},
     "output_type": "execute_result"
    },
    {
     "data": {
      "image/png": "[encoded data removed]",
      "text/plain": [
       "<matplotlib.figure.Figure at 0x7fb54a312f90>"
      ]
     },
     "metadata": {},
     "output_type": "display_data"
    }
   ],
   "source": [
    "%pylab inline\n",
    "fig, ax = plt.subplots(figsize=(10, 4))\n",
    "\n",
    "gravComb = (grav)\n",
    "\n",
    "ax.plot(dimXs*1e-3, gravComb *1e5)\n",
    "ax.set_ylabel('gravity (mGal)')\n",
    "ax.set_xlabel('kilometers from anomaly centre')"
   ]
  },
  {
   "cell_type": "markdown",
   "metadata": {
    "collapsed": false,
    "deletable": true,
    "editable": true
   },
   "source": [
    "## Upward Continuation\n",
    "       "
   ]
  },
  {
   "cell_type": "code",
   "execution_count": 40,
   "metadata": {
    "collapsed": true
   },
   "outputs": [],
   "source": [
    "densityIntFac = deltaRho*lengthScale\n",
    "gravitationalFac = 2.*np.pi*G"
   ]
  },
  {
   "cell_type": "code",
   "execution_count": 41,
   "metadata": {
    "collapsed": false
   },
   "outputs": [
    {
     "data": {
      "text/plain": [
       "array([  3.14159265,   6.28318531,   9.42477796,  12.56637061,  15.70796327])"
      ]
     },
     "execution_count": 41,
     "metadata": {},
     "output_type": "execute_result"
    }
   ],
   "source": [
    "N = 6   \n",
    "ks = integral_wavenumbers(mesh, N, axisIndex=1)\n",
    "upContKernelFn = fn.math.exp(-1.*(1. - fn.coord()[1])*ks)\n",
    "ks"
   ]
  },
  {
   "cell_type": "code",
   "execution_count": 42,
   "metadata": {
    "collapsed": false
   },
   "outputs": [],
   "source": [
    "synthFn, coeffs = spectral_integral(mesh, densVar, N=N, axisIndex=1, kernelFn=upContKernelFn, average = True, \n",
    "                      integrationType=\"volume\",surfaceIndexSet=None, returnCoeffs=True )"
   ]
  },
  {
   "cell_type": "code",
   "execution_count": 43,
   "metadata": {
    "collapsed": false,
    "deletable": true,
    "editable": true
   },
   "outputs": [],
   "source": [
    "meshxs= mesh.data[mesh.specialSets['MaxJ_VertexSet'].data][:,0]\n",
    "\n",
    "evals = np.column_stack( (meshxs, np.ones(len(meshxs)) ))\n",
    "gravFn = synthFn.evaluate(evals )\n",
    "\n",
    "#Now dimensionalize\n",
    "gravFn = gravFn*densityIntFac*gravitationalFac"
   ]
  },
  {
   "cell_type": "code",
   "execution_count": 44,
   "metadata": {
    "collapsed": false,
    "deletable": true,
    "editable": true
   },
   "outputs": [
    {
     "data": {
      "text/plain": [
       "<matplotlib.text.Text at 0x7fb5426d61d0>"
      ]
     },
     "execution_count": 44,
     "metadata": {},
     "output_type": "execute_result"
    },
    {
     "data": {
      "image/png": "[encoded data removed]",
      "text/plain": [
       "<matplotlib.figure.Figure at 0x7fb5428ad890>"
      ]
     },
     "metadata": {},
     "output_type": "display_data"
    }
   ],
   "source": [
    "fig, ax = plt.subplots(figsize=(10, 4))\n",
    "ax.plot(dimXs*1e-3, gravComb*1e5)\n",
    "ax.plot(dimXs*1e-3, ((gravFn) - ((gravFn)[0]  -gravComb[-1]))  *1e5, ls = '--')\n",
    "\n",
    "ax.set_ylabel('gravity (mGal)')\n",
    "ax.set_xlabel('kilometers from anomaly centre')"
   ]
  },
  {
   "cell_type": "code",
   "execution_count": 45,
   "metadata": {
    "collapsed": false,
    "deletable": true,
    "editable": true
   },
   "outputs": [],
   "source": [
    "sincfs = coeffs[0].evaluate()\n",
    "coscfs = coeffs[1].evaluate()"
   ]
  },
  {
   "cell_type": "code",
   "execution_count": 46,
   "metadata": {
    "collapsed": false,
    "deletable": true,
    "editable": true
   },
   "outputs": [
    {
     "data": {
      "text/plain": [
       "<matplotlib.text.Text at 0x7fb54284cdd0>"
      ]
     },
     "execution_count": 46,
     "metadata": {},
     "output_type": "execute_result"
    },
    {
     "data": {
      "image/png": "[encoded data removed]",
      "text/plain": [
       "<matplotlib.figure.Figure at 0x7fb540239890>"
      ]
     },
     "metadata": {},
     "output_type": "display_data"
    }
   ],
   "source": [
    "fig, ax = plt.subplots(figsize=(10, 4))\n",
    "\n",
    "ax.plot(ks,sincfs ,label = 'amp. of sin modes', marker='o'  )\n",
    "ax.plot(ks,coscfs, label = 'amp. of cosine modes' , marker='o' )\n",
    "ax.legend()\n",
    "ax.hlines(0,0, ks[-1], linestyles='--', lw=1. )\n",
    "ax.set_xlabel('angular wavenumber (dimensionless )')"
   ]
  },
  {
   "cell_type": "markdown",
   "metadata": {
    "collapsed": true,
    "deletable": true,
    "editable": true
   },
   "source": [
    "## Upward continuation via numpy FFT\n",
    "\n",
    "Here we demonstrate the other way of performing the upward continuation - via the Numpy FFT module\n",
    "\n",
    "* While this is significantly faster, it can only be performed in serial, with a uniform mesh. "
   ]
  },
  {
   "cell_type": "code",
   "execution_count": 48,
   "metadata": {
    "collapsed": true,
    "deletable": true,
    "editable": true
   },
   "outputs": [],
   "source": [
    "dm = 20e3/lengthScale\n",
    "\n",
    "mesh.minCoord[0]\n",
    "mesh.maxCoord[0]\n",
    "\n",
    "nx =  (mesh.maxCoord[0]- mesh.minCoord[0])/dm\n",
    "meshxs = 0.99999999*np.linspace(mesh.minCoord[0], mesh.maxCoord[0], int(nx), endpoint=True)\n",
    "ny =  (1200e3/lengthScale)/dm\n",
    "\n",
    "meshys = np.linspace(mesh.minCoord[1], 1. , int(ny),  endpoint=True)\n",
    "xv, yv = np.meshgrid(meshxs, meshys )\n",
    "coords = np.array(zip(xv.flatten(), yv.flatten()))#uw just wants an Mx2 array"
   ]
  },
  {
   "cell_type": "code",
   "execution_count": 49,
   "metadata": {
    "collapsed": true,
    "deletable": true,
    "editable": true
   },
   "outputs": [],
   "source": [
    "densdata = densVar.evaluate(coords[:, :])[:,0]\n",
    "density = np.zeros(xv.shape) \n",
    "density[:] = densdata.reshape((xv.shape))"
   ]
  },
  {
   "cell_type": "code",
   "execution_count": 50,
   "metadata": {
    "collapsed": true,
    "deletable": true,
    "editable": true
   },
   "outputs": [],
   "source": [
    "#set up wavenumbers and perform the FFT\n",
    "\n",
    "N  = density.shape[1]\n",
    "spacing = meshxs[1] - meshxs[0] \n",
    "kvals = 2.*np.pi*np.fft.rfftfreq(N, d=spacing )\n",
    "density_k = np.fft.rfft(density)"
   ]
  },
  {
   "cell_type": "code",
   "execution_count": 51,
   "metadata": {
    "collapsed": false,
    "deletable": true,
    "editable": true
   },
   "outputs": [],
   "source": [
    "#set up the upward continuation kernel\n",
    "\n",
    "depths = 1. - meshys \n",
    "#create the exponent for the upward continuation kernel\n",
    "expon = np.outer(depths, np.abs(kvals))\n",
    "#create the upward continuation kernel \n",
    "kernelMatrix = np.exp(-1.*expon)"
   ]
  },
  {
   "cell_type": "code",
   "execution_count": 52,
   "metadata": {
    "collapsed": false,
    "deletable": true,
    "editable": true
   },
   "outputs": [],
   "source": [
    "#apply  the upward continuation kernel,  \n",
    "Kernel = -1*kernelMatrix*density_k\n",
    "dy = meshys[0] - meshys[1]\n",
    "\n",
    "#and integrate vertical contrubutions for each wavenumber\n",
    "densSum = simps(Kernel, x = depths, axis=0)\n",
    "\n",
    "\n",
    "#set the mean value to zero\n",
    "mask = kvals == 0\n",
    "densSum[mask] = 0\n",
    "\n",
    "\n",
    "gravFFT_ = np.fft.irfft(densSum)\n",
    "gravFFT = gravFFT_*densityIntFac*gravitationalFac"
   ]
  },
  {
   "cell_type": "code",
   "execution_count": 54,
   "metadata": {
    "collapsed": false,
    "deletable": true,
    "editable": true
   },
   "outputs": [
    {
     "data": {
      "text/plain": [
       "<matplotlib.text.Text at 0x7fb542742e90>"
      ]
     },
     "execution_count": 54,
     "metadata": {},
     "output_type": "execute_result"
    },
    {
     "data": {
      "image/png": "[encoded data removed]",
      "text/plain": [
       "<matplotlib.figure.Figure at 0x7fb540219e50>"
      ]
     },
     "metadata": {},
     "output_type": "display_data"
    }
   ],
   "source": [
    "fig, ax = plt.subplots(figsize=(10, 4))\n",
    "ax.plot(dimXs*1e-3, gravComb*1e5)\n",
    "ax.plot(dimXs*1e-3, ((gravFn) - ((gravFn)[0]  -gravComb[-1]))  *1e5, ls = '--')\n",
    "ax.plot(meshxs[:]*lengthScale*1e-3, (gravFFT - ((gravFFT)[0]  -gravComb[-1]))*1e5, ls = '-.')\n",
    "\n",
    "\n",
    "ax.set_ylabel('gravity (mGal)')\n",
    "ax.set_xlabel('x coordinate (kms)')"
   ]
  },
  {
   "cell_type": "code",
   "execution_count": null,
   "metadata": {
    "collapsed": true,
    "deletable": true,
    "editable": true
   },
   "outputs": [],
   "source": []
  }
 ],
 "metadata": {
  "kernelspec": {
   "display_name": "Python 2",
   "language": "python",
   "name": "python2"
  },
  "language_info": {
   "codemirror_mode": {
    "name": "ipython",
    "version": 2
   },
   "file_extension": ".py",
   "mimetype": "text/x-python",
   "name": "python",
   "nbconvert_exporter": "python",
   "pygments_lexer": "ipython2",
   "version": "2.7.9"
  }
 },
 "nbformat": 4,
 "nbformat_minor": 2
}
